{
  "nbformat": 4,
  "nbformat_minor": 0,
  "metadata": {
    "colab": {
      "name": "Tweets BD",
      "provenance": []
    },
    "kernelspec": {
      "name": "python3",
      "display_name": "Python 3"
    }
  },
  "cells": [
    {
      "cell_type": "code",
      "metadata": {
        "id": "v8Czg0Cbufc9"
      },
      "source": [
        " ! pip3 install --upgrade -e git+https://github.com/twintproject/twint.git@origin/master#egg=twint"
      ],
      "execution_count": null,
      "outputs": []
    },
    {
      "cell_type": "code",
      "metadata": {
        "id": "7gWdhFsswLV8",
        "outputId": "2c676bfa-6778-431e-8588-338de60d9f57",
        "colab": {
          "base_uri": "https://localhost:8080/",
          "height": 34
        }
      },
      "source": [
        "%cd /content"
      ],
      "execution_count": null,
      "outputs": [
        {
          "output_type": "stream",
          "text": [
            "/content\n"
          ],
          "name": "stdout"
        }
      ]
    },
    {
      "cell_type": "code",
      "metadata": {
        "id": "HZ40pg7uwjQX"
      },
      "source": [
        "! sudo twint -h"
      ],
      "execution_count": null,
      "outputs": []
    },
    {
      "cell_type": "code",
      "metadata": {
        "id": "Nt4sKgmzjba5"
      },
      "source": [
        "! twint -s \"Saúde SUS bom OR ruim\" --until 2020-01-05 --limit 100 --lang \"pt-BR\" -fr -pc 1 -o dec2019 --csv"
      ],
      "execution_count": null,
      "outputs": []
    },
    {
      "cell_type": "code",
      "metadata": {
        "id": "jd6nrANRnJbq"
      },
      "source": [
        "! twint -s \"Saúde SUS\" --since 2019-12-01 --until 2020-01-01 --limit 100 --lang \"pt-BR\" -fr -pc 1 -o dec2019 --csv"
      ],
      "execution_count": null,
      "outputs": []
    },
    {
      "cell_type": "code",
      "metadata": {
        "id": "-s_5OuJewcQ-"
      },
      "source": [
        "! twint -s \"Saúde SUS\" --since 2019-12-01 --until 2020-01-01 --limit 10000 --lang \"pt-BR\" -fr -pc 1 -o dec2019 --csv\n",
        "! twint -s \"Saúde SUS\" --since 2020-01-01 --until 2020-02-01 --limit 10000 --lang \"pt-BR\" -fr -pc 1 -o jan2020 --csv\n",
        "! twint -s \"Saúde SUS\" --since 2020-02-01 --until 2020-03-01 --limit 10000 --lang \"pt-BR\" -fr -pc 1 -o feb2020 --csv\n",
        "! twint -s \"Saúde SUS\" --since 2020-03-01 --until 2020-04-01 --limit 10000 --lang \"pt-BR\" -fr -pc 1 -o mar2020 --csv\n",
        "! twint -s \"Saúde SUS\" --since 2020-04-01 --until 2020-05-01 --limit 10000 --lang \"pt-BR\" -fr -pc 1 -o apr2020 --csv\n",
        "! twint -s \"Saúde SUS\" --since 2020-05-01 --until 2020-06-01 --limit 10000 --lang \"pt-BR\" -fr -pc 1 -o may2020 --csv\n",
        "! twint -s \"Saúde SUS\" --since 2020-06-01 --until 2020-07-01 --limit 10000 --lang \"pt-BR\" -fr -pc 1 -o jun2020 --csv\n",
        "! twint -s \"Saúde SUS\" --since 2020-07-01 --until 2020-08-01 --limit 10000 --lang \"pt-BR\" -fr -pc 1 -o jul2020 --csv\n",
        "! twint -s \"Saúde SUS\" --since 2020-08-01 --until 2020-09-01 --limit 10000 --lang \"pt-BR\" -fr -pc 1 -o aug2020 --csv\n",
        "! twint -s \"Saúde SUS\" --since 2020-09-01 --until 2020-10-01 --limit 10000 --lang \"pt-BR\" -fr -pc 1 -o sep2020 --csv"
      ],
      "execution_count": null,
      "outputs": []
    },
    {
      "cell_type": "code",
      "metadata": {
        "id": "1xm8hgmPH356",
        "outputId": "61108918-de5f-46ba-8cf4-569d47a82933",
        "colab": {
          "base_uri": "https://localhost:8080/",
          "height": 34
        }
      },
      "source": [
        "from google.colab import drive\n",
        "drive.mount('/content/drive')"
      ],
      "execution_count": null,
      "outputs": [
        {
          "output_type": "stream",
          "text": [
            "Mounted at /content/drive\n"
          ],
          "name": "stdout"
        }
      ]
    },
    {
      "cell_type": "code",
      "metadata": {
        "id": "Um8Crk80bhLb",
        "outputId": "f21d0af6-690f-4710-d648-8b1485cbda91",
        "colab": {
          "base_uri": "https://localhost:8080/",
          "height": 34
        }
      },
      "source": [
        "%cd /content"
      ],
      "execution_count": null,
      "outputs": [
        {
          "output_type": "stream",
          "text": [
            "/content\n"
          ],
          "name": "stdout"
        }
      ]
    },
    {
      "cell_type": "code",
      "metadata": {
        "id": "Jav84jn8IKOR"
      },
      "source": [
        "path = \"drive/My Drive/\"\n",
        "twint = \"twint/twint/\"\n",
        "with open(twint + \"dec2019/tweets.csv\", \"r\") as f:\n",
        "    aux = f.read()\n",
        "    with open(path + \"tweets1.csv\", \"w\") as f2:\n",
        "        f2.write(aux)\n",
        "with open(twint + \"jan2020/tweets.csv\", \"r\") as f:\n",
        "    aux = f.read()\n",
        "    with open(path + \"tweets2.csv\", \"w\") as f2:\n",
        "        f2.write(aux)\n",
        "with open(twint + \"feb2020/tweets.csv\", \"r\") as f:\n",
        "    aux = f.read()\n",
        "    with open(path + \"tweets3.csv\", \"w\") as f2:\n",
        "        f2.write(aux)\n",
        "with open(twint + \"mar2020/tweets.csv\", \"r\") as f:\n",
        "    aux = f.read()\n",
        "    with open(path + \"tweets4.csv\", \"w\") as f2:\n",
        "        f2.write(aux)\n",
        "with open(twint + \"apr2020/tweets.csv\", \"r\") as f:\n",
        "    aux = f.read()\n",
        "    with open(path + \"tweets5.csv\", \"w\") as f2:\n",
        "        f2.write(aux)\n",
        "with open(twint + \"may2020/tweets.csv\", \"r\") as f:\n",
        "    aux = f.read()\n",
        "    with open(path + \"tweets6.csv\", \"w\") as f2:\n",
        "        f2.write(aux)\n",
        "with open(twint + \"jun2020/tweets.csv\", \"r\") as f:\n",
        "    aux = f.read()\n",
        "    with open(path + \"tweets7.csv\", \"w\") as f2:\n",
        "        f2.write(aux)\n",
        "with open(twint + \"jul2020/tweets.csv\", \"r\") as f:\n",
        "    aux = f.read()\n",
        "    with open(path + \"tweets8.csv\", \"w\") as f2:\n",
        "        f2.write(aux)\n",
        "with open(twint + \"aug2020/tweets.csv\", \"r\") as f:\n",
        "    aux = f.read()\n",
        "    with open(path + \"tweets9.csv\", \"w\") as f2:\n",
        "        f2.write(aux)\n",
        "with open(twint + \"sep2020/tweets.csv\", \"r\") as f:\n",
        "    aux = f.read()\n",
        "    with open(path + \"tweets10.csv\", \"w\") as f2:\n",
        "        f2.write(aux)"
      ],
      "execution_count": null,
      "outputs": []
    }
  ]
}